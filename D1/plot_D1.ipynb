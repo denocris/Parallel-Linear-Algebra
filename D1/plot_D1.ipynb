{
 "cells": [
  {
   "cell_type": "code",
   "execution_count": 3,
   "metadata": {
    "collapsed": false
   },
   "outputs": [],
   "source": [
    "import numpy as np\n",
    "import matplotlib.pyplot as plt\n",
    "\n",
    "nfiles = [\"data/scaling.dat\", \"data/scaling2.dat\"]\n",
    "rep = 10     # number of repetition per measure, set in top of src/main.c\n",
    "\n",
    "for namef in nfiles:\n",
    "    data = np.loadtxt(namef)\n",
    "    X = data[:,0]\n",
    "    Y   = data[:,1]\n",
    "\n",
    "    n_elem = len(data) / rep\n",
    "\n",
    "    x_real = np.zeros(n_elem)\n",
    "    y_real = np.zeros(n_elem)\n",
    "    err = np.zeros(n_elem)\n",
    "\n",
    "    i = 0\n",
    "    j = 0\n",
    "    count  = 0\n",
    "    y_tmp1 = 0.\n",
    "\n",
    "    while i < n_elem:\n",
    "        while j < len(X):\n",
    "            # performing mean value calculation\n",
    "            y_tmp1 += Y[i + j]\n",
    "            j += n_elem\n",
    "\n",
    "\n",
    "        x_real[count] = X[i]\n",
    "        y_real[count] = y_tmp1 / rep\n",
    "\n",
    "        y_tmp1 = 0.\n",
    "        j = 0 # need to perform error calculation\n",
    "        \n",
    "        while j < len(X):\n",
    "            # performing error calculation\n",
    "            y_tmp1 += (Y[i + j] - y_real[count])**2\n",
    "            j += n_elem\n",
    "\n",
    "        err[count] = (y_tmp1 / (rep - 1.))**0.5\n",
    "\n",
    "        y_tmp1 = 0.\n",
    "        count += 1\n",
    "        i += 1\n",
    "        j = 0\n",
    "        \n",
    "    plt.figure()\n",
    "\n",
    "    if namef == nfiles[0]:\n",
    "\n",
    "        plt.errorbar(x_real, y_real, yerr=err, label = namef[:-4])\n",
    "        plt.title('Scaling obtained with $\\hat{r}_{targ} = 10^{-10}$ and $CondNumb = 10^6$')\n",
    "        plt.xlabel('Matrix Size')\n",
    "        plt.ylabel('N_Iter')\n",
    "        plt.savefig(\"data/first_scaling.png\")\n",
    "        plt.close('all')\n",
    "\n",
    "    elif namef == nfiles[1]:\n",
    "\n",
    "        plt.errorbar(x_real**0.5, y_real, yerr=err, label = namef[:-4])\n",
    "        plt.title('Scaling obtained with $\\hat{r}_{targ} = 10^{-10}$ Matrix Size = 500')\n",
    "        plt.xlabel('sqrt(Condition Number)')\n",
    "        plt.ylabel('N_Iter')\n",
    "        plt.savefig(\"data/second_scaling.png\")\n",
    "        plt.close('all')"
   ]
  },
  {
   "cell_type": "code",
   "execution_count": null,
   "metadata": {
    "collapsed": true
   },
   "outputs": [],
   "source": []
  }
 ],
 "metadata": {
  "anaconda-cloud": {},
  "kernelspec": {
   "display_name": "Python [conda root]",
   "language": "python",
   "name": "conda-root-py"
  },
  "language_info": {
   "codemirror_mode": {
    "name": "ipython",
    "version": 2
   },
   "file_extension": ".py",
   "mimetype": "text/x-python",
   "name": "python",
   "nbconvert_exporter": "python",
   "pygments_lexer": "ipython2",
   "version": "2.7.12"
  }
 },
 "nbformat": 4,
 "nbformat_minor": 1
}
